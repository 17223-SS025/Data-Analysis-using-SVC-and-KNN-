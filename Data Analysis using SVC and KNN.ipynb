{
 "cells": [
  {
   "cell_type": "markdown",
   "id": "61fb75f9",
   "metadata": {},
   "source": [
    "# Data Analysis using SVC and KNN"
   ]
  },
  {
   "cell_type": "code",
   "execution_count": null,
   "id": "dfd2ed47",
   "metadata": {},
   "outputs": [],
   "source": [
    "# Importing libaries\n",
    "import pandas as pd\n",
    "import numpy as np\n",
    "import seaborn as sns                   \n",
    "from matplotlib import pyplot as plt    \n",
    "%matplotlib inline"
   ]
  },
  {
   "cell_type": "code",
   "execution_count": null,
   "id": "9ddf4a44",
   "metadata": {},
   "outputs": [],
   "source": [
    "# loading chosen data into a dataframe \n",
    "\n",
    "df = pd.read_csv('Maltreatment_Types_of_Victims.csv', encoding='utf-8')"
   ]
  },
  {
   "cell_type": "markdown",
   "id": "12e4c13a",
   "metadata": {},
   "source": [
    "## Understanding data"
   ]
  },
  {
   "cell_type": "code",
   "execution_count": null,
   "id": "abcc497a",
   "metadata": {
    "scrolled": true
   },
   "outputs": [],
   "source": [
    "# visualising the data inside the dataframe as coloumns\n",
    "\n",
    "df.columns "
   ]
  },
  {
   "cell_type": "code",
   "execution_count": null,
   "id": "5574206c",
   "metadata": {},
   "outputs": [],
   "source": [
    "df.dtypes # returning the datatype of every coloumn in the dataframe"
   ]
  },
  {
   "cell_type": "code",
   "execution_count": null,
   "id": "107eccef",
   "metadata": {},
   "outputs": [],
   "source": [
    "df.shape # returning the shape of data - it contains 54 elements, samples over 21 variables, \n",
    "# all of which seem to have one dimension per variable"
   ]
  },
  {
   "cell_type": "code",
   "execution_count": null,
   "id": "6e142a72",
   "metadata": {},
   "outputs": [],
   "source": [
    "df['State'].value_counts() # this returns a Series containing the unique rows in the dataframe, all of which have a count of 1"
   ]
  },
  {
   "cell_type": "code",
   "execution_count": null,
   "id": "01df8d96",
   "metadata": {},
   "outputs": [],
   "source": [
    "df['Medical Neglect Only'].value_counts() # this is the same as above, except this is a different variable, \n",
    "# which has 2 counts of '25.0' and '49.0' values  and the rest have a count of 1"
   ]
  },
  {
   "cell_type": "code",
   "execution_count": null,
   "id": "b3c06859",
   "metadata": {},
   "outputs": [],
   "source": [
    "df['Sexual Abuse Only'].value_counts() # same as above, except 2 counts of '45.0' and '39.0'  \n",
    "# and the rest have a count of 1"
   ]
  },
  {
   "cell_type": "code",
   "execution_count": null,
   "id": "aa882b8c",
   "metadata": {},
   "outputs": [],
   "source": [
    "df['Neglect Only'].value_counts() # same as above, except 2 counts of '3444'  and the rest have a count of 1\n"
   ]
  },
  {
   "cell_type": "code",
   "execution_count": null,
   "id": "a831aaa8",
   "metadata": {},
   "outputs": [],
   "source": [
    "df['Other Only'].value_counts() # same as above, except 35 counts of '1.0' and  2 counts of'3.0' and '21.0'  \n",
    "# and the rest have a count of 1\n"
   ]
  },
  {
   "cell_type": "code",
   "execution_count": null,
   "id": "53527225",
   "metadata": {},
   "outputs": [],
   "source": [
    "df['Physical Abuse Only'].value_counts() # same as above, only unique rows of count 1  and the rest have a count of 1\n",
    " "
   ]
  },
  {
   "cell_type": "code",
   "execution_count": null,
   "id": "dbaec2df",
   "metadata": {},
   "outputs": [],
   "source": [
    "df['Psychological Maltreatment Only'].value_counts() # same as above, except 8 counts of '1.0' and 2 counts of '2.0', '29.0' \n",
    "# and 2 counts of '3.0'  and the rest have a count of 1\n"
   ]
  },
  {
   "cell_type": "code",
   "execution_count": null,
   "id": "073b4016",
   "metadata": {},
   "outputs": [],
   "source": [
    "df['Sex Trafficking Only'].value_counts() # returns 35 counts of '1.0' and 2 counts of '3.0', '7.0' and '14.0' and the rest \n",
    "# have a count of 1\n"
   ]
  },
  {
   "cell_type": "code",
   "execution_count": null,
   "id": "7e2c2add",
   "metadata": {},
   "outputs": [],
   "source": [
    "df['Unknown Only'].value_counts()   # same as above except 51 counts of '3.0' and the rest have a count of 1"
   ]
  },
  {
   "cell_type": "code",
   "execution_count": null,
   "id": "6aedf58e",
   "metadata": {
    "scrolled": true
   },
   "outputs": [],
   "source": [
    "df['Multiple Maltreatment Types'].value_counts()\n"
   ]
  },
  {
   "cell_type": "markdown",
   "id": "7d6fcb20",
   "metadata": {},
   "source": [
    "To investigate the dataset, a correlation matrix and feature selection using K-best will be conducted to select the appropriate variables "
   ]
  },
  {
   "cell_type": "code",
   "execution_count": null,
   "id": "273e6b06",
   "metadata": {},
   "outputs": [],
   "source": [
    "df.head() # these are the first few rows of the dataFrame from the original CSV file \n",
    "# no data processing has been performed yet"
   ]
  },
  {
   "cell_type": "code",
   "execution_count": null,
   "id": "922a3439",
   "metadata": {},
   "outputs": [],
   "source": [
    "df.info() # here are the data types from each variable - most of which are integers and floats, except 'State' \n",
    "# which is an object "
   ]
  },
  {
   "cell_type": "code",
   "execution_count": null,
   "id": "dcaca187",
   "metadata": {},
   "outputs": [],
   "source": [
    "df.isnull().sum() # this function returns the amount of the null values each variable has - these will be changed into 0 later \n",
    "# and replaced by the mode of each variable "
   ]
  },
  {
   "cell_type": "code",
   "execution_count": null,
   "id": "8f34c7de",
   "metadata": {},
   "outputs": [],
   "source": [
    "# a correlation matrix that represents the correlation values of the variables \n",
    "\n",
    "corr=df.corr() \n",
    "plt.figure(figsize=(15,10))\n",
    "sns.heatmap(corr, annot = True, cmap=\"BuPu\")  \n"
   ]
  },
  {
   "cell_type": "markdown",
   "id": "3f12c37b",
   "metadata": {},
   "source": [
    "## Processing data"
   ]
  },
  {
   "cell_type": "code",
   "execution_count": null,
   "id": "538d1b8f",
   "metadata": {},
   "outputs": [],
   "source": [
    "# Deleted variables that show the percentages since it appears redundant, along with the 'Total Victims' variable \n",
    "# since it does not provide any additional infromation other than the sum\n",
    "\n",
    "\n",
    "df.drop(['Medical Neglect Only Percent', 'Neglect Only Percent', 'Other Only Percent', \n",
    "         'Physical Abuse Only Percent', 'Psychological Maltreatment Only Percent', \n",
    "         'Sexual Abuse Only Percent', 'Sex Trafficking Only Percent', 'Unknown Only Percent', \n",
    "         'Multiple Maltreatment Types Percent', 'Total Victims Percent', 'Total Victims'], axis=1, inplace=True)\n",
    "\n",
    "\n",
    "        "
   ]
  },
  {
   "cell_type": "code",
   "execution_count": null,
   "id": "190d90e1",
   "metadata": {},
   "outputs": [],
   "source": [
    "df.dtypes # ran this function again to reflect the changes after having removed several variables \n"
   ]
  },
  {
   "cell_type": "code",
   "execution_count": null,
   "id": "a337485b",
   "metadata": {},
   "outputs": [],
   "source": [
    "corr=df.corr() \n",
    "plt.figure(figsize=(15,10))\n",
    "sns.heatmap(corr, annot = True, cmap=\"BuPu\")  \n",
    "\n",
    "# Used the correlation matrix again to recheck the correlation values now holds only purposeful variables \n"
   ]
  },
  {
   "cell_type": "markdown",
   "id": "962bd364",
   "metadata": {},
   "source": [
    "Conclusion drawn so far:\n",
    "\n",
    "-'Unknown Only' variable is less coefficent than the other variables. However,since it's quiet high (around 0.72-0.74), \n",
    "it seems valuable to keep it in the dataset. Moreover, it suggests that research into unexplored areas of child abuse types can be explored with more qualtiative research.\n",
    "\n",
    "-'Other' is also quite high depsite being unspecfied. It is also interesting that 'Unknown Only' and 'sext trafficking only' share a postive coefficent correlation of 1. \n",
    "\n",
    "-Although it is clear why sex-trafficking and medical neglect are assoicated with 0.98, more research may be useful - might \n",
    "share a common variable that connects them\n"
   ]
  },
  {
   "cell_type": "code",
   "execution_count": null,
   "id": "d8a89a5b",
   "metadata": {},
   "outputs": [],
   "source": [
    "df.head() # to reflect the changes by showing the first few rows from the dataframe "
   ]
  },
  {
   "cell_type": "code",
   "execution_count": null,
   "id": "e3520a55",
   "metadata": {},
   "outputs": [],
   "source": [
    "# counting yet again the missing values now that the variables have been reduced \n",
    "df.isnull().sum()"
   ]
  },
  {
   "cell_type": "code",
   "execution_count": null,
   "id": "b19fb98a",
   "metadata": {},
   "outputs": [],
   "source": [
    "# filling missing values with the mode from each respective coloumn\n",
    "# chose to replace missing values with mode because it reflects the number with the highest freuqency, \n",
    "# suggesting it is a number that reoccurs \n",
    "\n",
    "df['Medical Neglect Only'] = df['Medical Neglect Only'].fillna(df['Medical Neglect Only'].mode()[0])\n",
    "df['Neglect Only'] = df['Neglect Only'].fillna(df['Neglect Only'].mode()[0])\n",
    "df['Other Only'] = df['Other Only'].fillna(df['Other Only'].mode()[0])\n",
    "df['Psychological Maltreatment Only'] = df['Psychological Maltreatment Only'].fillna(df['Psychological Maltreatment Only'].mode()[0])\n",
    "df['Sexual Abuse Only'] = df['Sexual Abuse Only'].fillna(df['Sexual Abuse Only'].mode()[0])\n",
    "df['Sex Trafficking Only'] = df['Sex Trafficking Only'].fillna(df['Sex Trafficking Only'].mode()[0])\n",
    "df['Unknown Only'] = df['Unknown Only'].fillna(df['Unknown Only'].mode()[0])"
   ]
  },
  {
   "cell_type": "code",
   "execution_count": null,
   "id": "cf02adef",
   "metadata": {},
   "outputs": [],
   "source": [
    "df.isnull().sum() # displaying this again to see if I have successfully replaced the missing values (which I did)"
   ]
  },
  {
   "cell_type": "code",
   "execution_count": null,
   "id": "3e8f6124",
   "metadata": {},
   "outputs": [],
   "source": [
    "df.shape # rechecking the shape of data now that desired variables have been selected \n",
    "# returns the shape of data - 54 elements, samples over 10 variables with one dimension per variable"
   ]
  },
  {
   "cell_type": "code",
   "execution_count": null,
   "id": "84f9148f",
   "metadata": {},
   "outputs": [],
   "source": [
    "df.head() # the first few rows of the dataframe can be seen without all the missing values replaced "
   ]
  },
  {
   "cell_type": "code",
   "execution_count": null,
   "id": "d4c8924d",
   "metadata": {},
   "outputs": [],
   "source": [
    "# rechecking correlation matrix to see if the replacing  missing values with the mode had affected the correlation (it had)\n",
    "\n",
    "corr=df.corr() \n",
    "plt.figure(figsize=(15,10))\n",
    "sns.heatmap(corr, annot = True, cmap=\"BuPu\")  \n",
    "\n",
    "# The correlation dropped as the correlation coeficcient betweeen sex trafficking and unknown reduced to .69, \n",
    "# but is still relatively high."
   ]
  },
  {
   "cell_type": "code",
   "execution_count": null,
   "id": "e8349e40",
   "metadata": {},
   "outputs": [],
   "source": [
    "df.info() # checking once again to note the differences from before"
   ]
  },
  {
   "cell_type": "code",
   "execution_count": null,
   "id": "31fd1a1e",
   "metadata": {},
   "outputs": [],
   "source": [
    "# decided to use 'state' variable as the targey y variable \n",
    "\n",
    "X = df.drop(['State'],axis=1)\n",
    "y = df['State']"
   ]
  },
  {
   "cell_type": "code",
   "execution_count": null,
   "id": "db9141d8",
   "metadata": {},
   "outputs": [],
   "source": [
    "# decided to use feature selection after choosing desired varibale to find the highest predictive features of the target \n",
    "# 'y' value, and for that I have chosen to use the chi2 scocring funtion and the k-best method "
   ]
  },
  {
   "cell_type": "code",
   "execution_count": null,
   "id": "f3b68ca9",
   "metadata": {},
   "outputs": [],
   "source": [
    "# this imports the libraries relevant for the task outline above \n",
    "\n",
    "from sklearn.feature_selection import SelectKBest\n",
    "from sklearn.feature_selection import chi2     "
   ]
  },
  {
   "cell_type": "code",
   "execution_count": null,
   "id": "54f64eb9",
   "metadata": {},
   "outputs": [],
   "source": [
    "kbest = SelectKBest(score_func = chi2, k = 'all') \n",
    "ordered_features = kbest.fit(X,y)\n",
    "\n",
    "df_scores = pd.DataFrame(ordered_features.scores_, columns=['Scoring']) \n",
    "\n",
    "df_columns = pd.DataFrame(X.columns, columns = ['Variable_Name']) \n",
    "\n",
    "feature_rank = pd.concat([df_scores,df_columns],axis=1) \n"
   ]
  },
  {
   "cell_type": "code",
   "execution_count": null,
   "id": "9a1f1eb8",
   "metadata": {},
   "outputs": [],
   "source": [
    "feature_rank.nlargest(54,'Scoring') # the ranking of the variables are by their score "
   ]
  },
  {
   "cell_type": "code",
   "execution_count": null,
   "id": "dcc739fb",
   "metadata": {},
   "outputs": [],
   "source": [
    "# converting processed data into a numpy since otherwise supervised learning methods cannot be used \n",
    "\n",
    "data = df.to_numpy()\n"
   ]
  },
  {
   "cell_type": "code",
   "execution_count": null,
   "id": "c00fb5d9",
   "metadata": {},
   "outputs": [],
   "source": [
    "data # this is the data that previously been in a dataframe, now it is a numpy array "
   ]
  },
  {
   "cell_type": "code",
   "execution_count": null,
   "id": "e1ff2cdb",
   "metadata": {},
   "outputs": [],
   "source": [
    "data.shape # now there are 54 elements, samples over 10 variables, all of which seem \n",
    "# to have one dimension per variable\n"
   ]
  },
  {
   "cell_type": "markdown",
   "id": "f1bd4210",
   "metadata": {},
   "source": [
    "## Preparing data"
   ]
  },
  {
   "cell_type": "code",
   "execution_count": null,
   "id": "f5728cef",
   "metadata": {},
   "outputs": [],
   "source": [
    "# converting targey 'y' variable and the remaining 'x' variable into numpy too, since otherwise the code wouldn't run\n",
    "\n",
    "X = df.drop(['State'],axis=1)\n",
    "y = df['State']\n",
    "\n",
    "\n",
    "X = X.to_numpy()\n",
    "y = y.to_numpy()"
   ]
  },
  {
   "cell_type": "code",
   "execution_count": null,
   "id": "c4ebcb78",
   "metadata": {},
   "outputs": [],
   "source": [
    "X.shape # now that y variable 'State' was dropped from 'x', it has now 9 variables "
   ]
  },
  {
   "cell_type": "code",
   "execution_count": null,
   "id": "05a72bec",
   "metadata": {},
   "outputs": [],
   "source": [
    "y.shape # y has 54 data point from a single variable 'State'"
   ]
  },
  {
   "cell_type": "code",
   "execution_count": null,
   "id": "739f096e",
   "metadata": {},
   "outputs": [],
   "source": [
    "i = np.random.permutation(len(data)) # this returns a random permutation of a sequence, or return a permuted range, \n",
    "# ensure randomisazation\n",
    "\n",
    "x_train = X[i[:-10]]    # saving the first 43 samples of the 9 variables in this array\n",
    "y_train = y[i[:-10]]    # saving the first 43 samples of the 1 target 'y' variable in this array \n",
    "x_test = X[i[-10:]]     # saving the last 11 samples of the 9 variables in this array\n",
    "y_test = y[i[-10:]]     # saving the last 11 samples of the 1 target variable in this array\n"
   ]
  },
  {
   "cell_type": "code",
   "execution_count": null,
   "id": "ab6de66c",
   "metadata": {},
   "outputs": [],
   "source": [
    "x_train.shape # the first 43 samples of the 9 variables"
   ]
  },
  {
   "cell_type": "code",
   "execution_count": null,
   "id": "6b7e6421",
   "metadata": {},
   "outputs": [],
   "source": [
    "y_train.shape # the first 43 samples of the target state"
   ]
  },
  {
   "cell_type": "code",
   "execution_count": null,
   "id": "5d2fd869",
   "metadata": {},
   "outputs": [],
   "source": [
    "x_test.shape # the last 11 samples of the 9 variables"
   ]
  },
  {
   "cell_type": "code",
   "execution_count": null,
   "id": "3620760d",
   "metadata": {},
   "outputs": [],
   "source": [
    "y_test.shape # the last 11 samples of the target state "
   ]
  },
  {
   "cell_type": "code",
   "execution_count": null,
   "id": "b76a3f38",
   "metadata": {},
   "outputs": [],
   "source": [
    "x_train # these are the 43 samples of the 9 variables that will be trained for this supervised learning approach "
   ]
  },
  {
   "cell_type": "markdown",
   "id": "b31c7f36",
   "metadata": {},
   "source": [
    "## K-Nearest Neighbors (KNN)"
   ]
  },
  {
   "cell_type": "code",
   "execution_count": null,
   "id": "c5d6a706",
   "metadata": {},
   "outputs": [],
   "source": [
    "# applying the the KNN classifier\n",
    "\n",
    "from sklearn.neighbors import KNeighborsClassifier\n",
    "knn = KNeighborsClassifier()\n",
    "knn.fit(x_train,y_train)\n",
    "\n",
    "# the code below generates the predictions:\n",
    "\n",
    "knn.predict(x_test) "
   ]
  },
  {
   "cell_type": "code",
   "execution_count": null,
   "id": "d6215e77",
   "metadata": {},
   "outputs": [],
   "source": [
    "y_test # this are the correct outcomes"
   ]
  },
  {
   "cell_type": "code",
   "execution_count": null,
   "id": "3196659d",
   "metadata": {},
   "outputs": [],
   "source": [
    "# the KNN classifier has 11 out of 11 correct."
   ]
  },
  {
   "cell_type": "code",
   "execution_count": null,
   "id": "3625aa7a",
   "metadata": {},
   "outputs": [],
   "source": [
    "# this is the code to predict the accuracy of the predicted model using KNN\n",
    "\n",
    "def classify(model, x, y):\n",
    "    x_train,x_test,y_train,y_test = train_test_split(X,y, test_size = 0.5, random_state=40)\n",
    "    model.fit(x_train,y_train)\n",
    "    print('Accuracy is: ', model.score(X,y)*100)\n",
    " "
   ]
  },
  {
   "cell_type": "code",
   "execution_count": null,
   "id": "cb64e3d6",
   "metadata": {},
   "outputs": [],
   "source": [
    "from sklearn.neighbors import KNeighborsClassifier\n",
    "knn_model = KNeighborsClassifier(n_neighbors=5)\n",
    "classify(knn_model,X,y)\n"
   ]
  },
  {
   "cell_type": "code",
   "execution_count": null,
   "id": "06a9ae88",
   "metadata": {},
   "outputs": [],
   "source": [
    "# the accuracy is 11%"
   ]
  },
  {
   "cell_type": "markdown",
   "id": "4d0d8ba7",
   "metadata": {},
   "source": [
    "## Support Vector Machine (SVM)"
   ]
  },
  {
   "cell_type": "code",
   "execution_count": null,
   "id": "3a21c22e",
   "metadata": {},
   "outputs": [],
   "source": [
    "# the second supervise learning algorithm used is the Support Vector Machine (SVM)\n",
    "\n",
    "from sklearn.svm import SVC\n",
    "SVC_model = SVC(kernel='linear', C = 1)\n",
    "SVC_model.fit(x_train,y_train)\n",
    "y_prediction = SVC_model.predict(x_test)  "
   ]
  },
  {
   "cell_type": "code",
   "execution_count": null,
   "id": "2c5d3044",
   "metadata": {},
   "outputs": [],
   "source": [
    "y_prediction = SVC_model.predict(x_test) # save predictions in y_prediction"
   ]
  },
  {
   "cell_type": "code",
   "execution_count": null,
   "id": "65440d4b",
   "metadata": {},
   "outputs": [],
   "source": [
    "# used confusion_matrix library for this\n",
    "\n",
    "from sklearn.metrics import confusion_matrix\n",
    "\n",
    "cm = confusion_matrix(y_test,y_prediction)"
   ]
  },
  {
   "cell_type": "code",
   "execution_count": null,
   "id": "79865db6",
   "metadata": {},
   "outputs": [],
   "source": [
    "sns.heatmap(cm,annot=True) # to visualise the result plotted in the confusion matrix"
   ]
  },
  {
   "cell_type": "code",
   "execution_count": null,
   "id": "1fc0bfb8",
   "metadata": {},
   "outputs": [],
   "source": [
    "# these are the necessary libries to visualise the resuls from above into a scatter graph\n",
    "import numpy as np\n",
    "import matplotlib.pyplot as plt\n",
    "from matplotlib import style\n",
    "style.use(\"ggplot\")\n",
    "from sklearn import svm"
   ]
  },
  {
   "cell_type": "code",
   "execution_count": null,
   "id": "6d8e4566",
   "metadata": {},
   "outputs": [],
   "source": [
    "plt.scatter(y_test,y_prediction)\n",
    "plt.show()"
   ]
  },
  {
   "cell_type": "code",
   "execution_count": null,
   "id": "7f7c4a5a",
   "metadata": {},
   "outputs": [],
   "source": [
    "y_test # this is the x-axis "
   ]
  },
  {
   "cell_type": "code",
   "execution_count": null,
   "id": "96940092",
   "metadata": {},
   "outputs": [],
   "source": [
    "y_prediction # this is the y axis "
   ]
  },
  {
   "cell_type": "code",
   "execution_count": null,
   "id": "ccb7c775",
   "metadata": {},
   "outputs": [],
   "source": [
    "# the SVC model correctly identified 6 out of 11"
   ]
  },
  {
   "cell_type": "markdown",
   "id": "647f7469",
   "metadata": {},
   "source": [
    "Data Analysis using SVC and KNN (C) 17223-SS025, (2022). All rights reserved."
   ]
  }
 ],
 "metadata": {
  "kernelspec": {
   "display_name": "Python 3",
   "language": "python",
   "name": "python3"
  },
  "language_info": {
   "codemirror_mode": {
    "name": "ipython",
    "version": 3
   },
   "file_extension": ".py",
   "mimetype": "text/x-python",
   "name": "python",
   "nbconvert_exporter": "python",
   "pygments_lexer": "ipython3",
   "version": "3.8.8"
  }
 },
 "nbformat": 4,
 "nbformat_minor": 5
}
